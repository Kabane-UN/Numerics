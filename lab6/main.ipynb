{
 "cells": [
  {
   "cell_type": "code",
   "execution_count": 29,
   "metadata": {},
   "outputs": [],
   "source": [
    "import numpy as np\n",
    "import pandas as pd\n",
    "def f(x, y):\n",
    "    return x**4+np.log(1+x**2+y**2)-2*x**2+np.exp(0.1*y)\n",
    "def dfdx(x, y):\n",
    "    return 2*x*(-2 + 2*x**2 + 1/(1 + x**2 + y**2))\n",
    "def dfdy(x, y):\n",
    "    return 0.1*np.exp(0.1*y) + (2*y)/(1 + x**2 + y**2)\n",
    "def d2fdx2(x, y):\n",
    "    return 2*x*(4*x - (2*x)/(1 + x**2 + y**2)**2) + 2*(-2 + 2*x**2 + 1/(1 + x**2 + y**2))\n",
    "def d2fdxdy(x, y):\n",
    "    return -(4*x*y)/(1 + x**2 + y**2)**2\n",
    "def d2fdy2(x, y):\n",
    "    return 0.01*np.exp(0.1*y) + (2*(1 + x**2 - y**2))/(1 + x**2 + y**2)**2\n",
    "sx, sy = 1, 0\n",
    "eps = 0.001"
   ]
  },
  {
   "cell_type": "code",
   "execution_count": 30,
   "metadata": {},
   "outputs": [],
   "source": [
    "i = 0\n",
    "while max(abs(dfdx(sx, sy)), abs(dfdy(sx, sy))) > eps:\n",
    "    dfi = - (dfdx(sx, sy))**2-(dfdy(sx, sy))**2\n",
    "    d2fi = d2fdx2(sx, sy)*(dfdx(sx, sy))**2+2*d2fdxdy(sx, sy)*dfdx(sx, sy)*dfdy(sx, sy)+\\\n",
    "        d2fdy2(sx, sy)*(dfdy(sx, sy))**2\n",
    "    t = - dfi / d2fi\n",
    "    sx -= t*dfdx(sx, sy)\n",
    "    sy -= t*dfdy(sx,sy)\n",
    "    i+=1\n",
    "\n",
    "\n"
   ]
  },
  {
   "cell_type": "code",
   "execution_count": 31,
   "metadata": {},
   "outputs": [
    {
     "data": {
      "text/html": [
       "<div>\n",
       "<style scoped>\n",
       "    .dataframe tbody tr th:only-of-type {\n",
       "        vertical-align: middle;\n",
       "    }\n",
       "\n",
       "    .dataframe tbody tr th {\n",
       "        vertical-align: top;\n",
       "    }\n",
       "\n",
       "    .dataframe thead th {\n",
       "        text-align: right;\n",
       "    }\n",
       "</style>\n",
       "<table border=\"1\" class=\"dataframe\">\n",
       "  <thead>\n",
       "    <tr style=\"text-align: right;\">\n",
       "      <th></th>\n",
       "      <th>x1'</th>\n",
       "      <th>x2'</th>\n",
       "      <th>x1</th>\n",
       "      <th>x2</th>\n",
       "      <th>n</th>\n",
       "      <th>|x1'-x1|</th>\n",
       "      <th>|x2'-x2|</th>\n",
       "    </tr>\n",
       "  </thead>\n",
       "  <tbody>\n",
       "    <tr>\n",
       "      <th>0</th>\n",
       "      <td>0.841742</td>\n",
       "      <td>-0.084464</td>\n",
       "      <td>0.841782</td>\n",
       "      <td>-0.085065</td>\n",
       "      <td>6</td>\n",
       "      <td>0.00004</td>\n",
       "      <td>0.000601</td>\n",
       "    </tr>\n",
       "  </tbody>\n",
       "</table>\n",
       "</div>"
      ],
      "text/plain": [
       "        x1'       x2'        x1        x2  n  |x1'-x1|  |x2'-x2|\n",
       "0  0.841742 -0.084464  0.841782 -0.085065  6   0.00004  0.000601"
      ]
     },
     "execution_count": 31,
     "metadata": {},
     "output_type": "execute_result"
    }
   ],
   "source": [
    "\n",
    "data = pd.DataFrame({\n",
    "    \"x1'\": [sx],\n",
    "    \"x2'\": [sy],\n",
    "    \"x1\": [0.841782],\n",
    "    \"x2\":[-0.0850649],\n",
    "    \"n\": [i],\n",
    "    \"|x1'-x1|\": [np.abs(sx-0.841782)],\n",
    "    \"|x2'-x2|\": [np.abs(sy+0.0850649)],\n",
    "})\n",
    "data"
   ]
  }
 ],
 "metadata": {
  "kernelspec": {
   "display_name": "Python 3",
   "language": "python",
   "name": "python3"
  },
  "language_info": {
   "codemirror_mode": {
    "name": "ipython",
    "version": 3
   },
   "file_extension": ".py",
   "mimetype": "text/x-python",
   "name": "python",
   "nbconvert_exporter": "python",
   "pygments_lexer": "ipython3",
   "version": "3.11.9"
  }
 },
 "nbformat": 4,
 "nbformat_minor": 2
}
