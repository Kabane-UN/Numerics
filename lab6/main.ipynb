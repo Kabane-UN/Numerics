{
 "cells": [
  {
   "cell_type": "code",
   "execution_count": 27,
   "metadata": {},
   "outputs": [],
   "source": [
    "import numpy as np\n",
    "def f(x, y):\n",
    "    return x**4+np.log(1+x**2+y**2)-2*x**2+np.exp(0.1*y)\n",
    "def dfdx(x, y):\n",
    "    return 2*x*(-2 + 2*x**2 + 1/(1 + x**2 + y**2))\n",
    "def dfdy(x, y):\n",
    "    return 0.1*np.exp(0.1*y) + (2*y)/(1 + x**2 + y**2)\n",
    "def d2fdx2(x, y):\n",
    "    return 2*x*(4*x - (2*x)/(1 + x**2 + y**2)**2) + 2*(-2 + 2*x**2 + 1/(1 + x**2 + y**2))\n",
    "def d2fdxdy(x, y):\n",
    "    return -(4*x*y)/(1 + x**2 + y**2)**2\n",
    "def d2fdy2(x, y):\n",
    "    return 0.01*np.exp(0.1*y) + (2*(1 + x**2 - y**2))/(1 + x**2 + y**2)**2\n",
    "sx, sy = 1, 0\n",
    "eps = 0.001"
   ]
  },
  {
   "cell_type": "code",
   "execution_count": 28,
   "metadata": {},
   "outputs": [],
   "source": [
    "i = 0\n",
    "while max(abs(dfdx(sx, sy)), abs(dfdy(sx, sy))) > eps:\n",
    "    dfi = - (dfdx(sx, sy))**2-(dfdy(sx, sy))**2\n",
    "    d2fi = d2fdx2(sx, sy)*(dfdx(sx, sy))**2+2*d2fdxdy(sx, sy)*dfdx(sx, sy)*dfdy(sx, sy)+\\\n",
    "        d2fdy2(sx, sy)*(dfdy(sx, sy))**2\n",
    "    t = - dfi / d2fi\n",
    "    sx -= t*dfdx(sx, sy)\n",
    "    sy -= t*dfdy(sx,sy)\n",
    "    i+=1\n",
    "\n",
    "\n"
   ]
  },
  {
   "cell_type": "code",
   "execution_count": 29,
   "metadata": {},
   "outputs": [
    {
     "data": {
      "text/plain": [
       "(0.8417417817608535,\n",
       " -0.08446413175934671,\n",
       " 0.841782,\n",
       " -0.0850649,\n",
       " 6,\n",
       " 0.6163442066938297)"
      ]
     },
     "execution_count": 29,
     "metadata": {},
     "output_type": "execute_result"
    }
   ],
   "source": [
    "sx, sy, 0.841782, -0.0850649,i, f(sx, sy)"
   ]
  }
 ],
 "metadata": {
  "kernelspec": {
   "display_name": "Python 3",
   "language": "python",
   "name": "python3"
  },
  "language_info": {
   "codemirror_mode": {
    "name": "ipython",
    "version": 3
   },
   "file_extension": ".py",
   "mimetype": "text/x-python",
   "name": "python",
   "nbconvert_exporter": "python",
   "pygments_lexer": "ipython3",
   "version": "3.12.2"
  }
 },
 "nbformat": 4,
 "nbformat_minor": 2
}
