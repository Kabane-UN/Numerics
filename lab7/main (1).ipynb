{
 "cells": [
  {
   "cell_type": "code",
   "execution_count": 40,
   "metadata": {},
   "outputs": [],
   "source": [
    "import numpy as np\n",
    "import pandas as pd"
   ]
  },
  {
   "cell_type": "code",
   "execution_count": 41,
   "metadata": {},
   "outputs": [],
   "source": [
    "def f(x):\n",
    "    return x**3+2*x**2-2*x-6\n",
    "def dfdx(x):\n",
    "    return 3*x**2+4*x-2\n",
    "def df2d2x(x):\n",
    "    return 6*x+4"
   ]
  },
  {
   "cell_type": "code",
   "execution_count": 42,
   "metadata": {},
   "outputs": [],
   "source": [
    "eps = 0.001\n",
    "def sep_met(f, a, b, eps):\n",
    "    i = 0\n",
    "    while b - a > 2*eps:\n",
    "        i+=1\n",
    "        new_x = (b+a)/2\n",
    "        if f(a)*f(new_x) < 0:\n",
    "            a = a\n",
    "            b = new_x\n",
    "        else:\n",
    "            a = new_x\n",
    "            b = b\n",
    "    else:\n",
    "        return (b + a) / 2, i"
   ]
  },
  {
   "cell_type": "code",
   "execution_count": 43,
   "metadata": {},
   "outputs": [],
   "source": [
    "def newton(f, dfdx, df2d2x, a, b, eps):\n",
    "    start = a if df2d2x(a)*f(a) > 0 else b\n",
    "    prev_last = start\n",
    "    i = 0\n",
    "    while f(start)*f(start+np.sign(start-prev_last)*eps)>=0:\n",
    "        i+=1\n",
    "        prev_last = start\n",
    "        start = start-f(start)/dfdx(start)\n",
    "    else:\n",
    "        return start, i"
   ]
  },
  {
   "cell_type": "code",
   "execution_count": 44,
   "metadata": {},
   "outputs": [],
   "source": [
    "scor, si = sep_met(f, 1, 2, eps)"
   ]
  },
  {
   "cell_type": "code",
   "execution_count": 45,
   "metadata": {},
   "outputs": [],
   "source": [
    "ncoe, ni = newton(f, dfdx, df2d2x, 1, 2, eps)"
   ]
  },
  {
   "cell_type": "code",
   "execution_count": 46,
   "metadata": {},
   "outputs": [
    {
     "data": {
      "text/html": [
       "<div>\n",
       "<style scoped>\n",
       "    .dataframe tbody tr th:only-of-type {\n",
       "        vertical-align: middle;\n",
       "    }\n",
       "\n",
       "    .dataframe tbody tr th {\n",
       "        vertical-align: top;\n",
       "    }\n",
       "\n",
       "    .dataframe thead th {\n",
       "        text-align: right;\n",
       "    }\n",
       "</style>\n",
       "<table border=\"1\" class=\"dataframe\">\n",
       "  <thead>\n",
       "    <tr style=\"text-align: right;\">\n",
       "      <th></th>\n",
       "      <th></th>\n",
       "      <th>Метод деления отрезка пополам</th>\n",
       "      <th>Метод ньютона</th>\n",
       "    </tr>\n",
       "  </thead>\n",
       "  <tbody>\n",
       "    <tr>\n",
       "      <th>0</th>\n",
       "      <td>x</td>\n",
       "      <td>1.598675</td>\n",
       "      <td>1.598675</td>\n",
       "    </tr>\n",
       "    <tr>\n",
       "      <th>1</th>\n",
       "      <td>x'</td>\n",
       "      <td>1.598633</td>\n",
       "      <td>1.598678</td>\n",
       "    </tr>\n",
       "    <tr>\n",
       "      <th>2</th>\n",
       "      <td>|x-x'|</td>\n",
       "      <td>0.000042</td>\n",
       "      <td>0.000003</td>\n",
       "    </tr>\n",
       "    <tr>\n",
       "      <th>3</th>\n",
       "      <td>i</td>\n",
       "      <td>9.000000</td>\n",
       "      <td>3.000000</td>\n",
       "    </tr>\n",
       "  </tbody>\n",
       "</table>\n",
       "</div>"
      ],
      "text/plain": [
       "           Метод деления отрезка пополам  Метод ньютона\n",
       "0       x                       1.598675       1.598675\n",
       "1      x'                       1.598633       1.598678\n",
       "2  |x-x'|                       0.000042       0.000003\n",
       "3       i                       9.000000       3.000000"
      ]
     },
     "execution_count": 46,
     "metadata": {},
     "output_type": "execute_result"
    }
   ],
   "source": [
    "an = 1/3*(-2 + 10**(1/3) + 10**(2/3))\n",
    "data = {\"\": [\"x\", \"x'\", \"|x-x'|\", \"i\"], \n",
    "        \"Метод деления отрезка пополам\": [an, scor, np.abs(scor-an), si],\n",
    "        \"Метод ньютона\": [an, ncoe, np.abs(ncoe-an), ni]\n",
    "} \n",
    "pd.DataFrame(data)"
   ]
  }
 ],
 "metadata": {
  "kernelspec": {
   "display_name": "Python 3",
   "language": "python",
   "name": "python3"
  },
  "language_info": {
   "codemirror_mode": {
    "name": "ipython",
    "version": 3
   },
   "file_extension": ".py",
   "mimetype": "text/x-python",
   "name": "python",
   "nbconvert_exporter": "python",
   "pygments_lexer": "ipython3",
   "version": "3.11.8"
  }
 },
 "nbformat": 4,
 "nbformat_minor": 2
}
