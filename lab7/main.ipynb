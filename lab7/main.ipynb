{
 "cells": [
  {
   "cell_type": "code",
   "execution_count": 49,
   "metadata": {},
   "outputs": [],
   "source": [
    "import numpy as np\n",
    "import pandas as pd"
   ]
  },
  {
   "cell_type": "code",
   "execution_count": 50,
   "metadata": {},
   "outputs": [],
   "source": [
    "\n",
    "\n",
    "def f1(x, y):\n",
    "    return np.sin(y-1)+x-1.3\n",
    "def f2(x, y):\n",
    "    return y+np.sin(x)+0.4\n",
    "def df1dx(x, y):\n",
    "    return 1\n",
    "def df1dy(x, y):\n",
    "    return np.cos(y-1)\n",
    "def df22dx(x, y):\n",
    "    return np.cos(x)\n",
    "def df22dy(x, y):\n",
    "    return 1\n",
    "\n",
    "df = np.asarray([[df1dx, df1dy], [df22dx, df22dy]])\n",
    "\n",
    "\n",
    "def many_newton(f, g, df, start, e):\n",
    "    i = 1\n",
    "    while True:\n",
    "        newdf = np.asarray([[df[0][0](start[0], start[1]), df[0][1](start[0], start[1])],\n",
    "                [df[1][0](start[0], start[1]), df[1][1](start[0], start[1])]])\n",
    "        b = np.asarray([f(start[0], start[1]), g(start[0], start[1])])\n",
    "        y = np.linalg.solve(newdf, (- b))\n",
    "        newx = start+y\n",
    "        err = max(abs(newx - start))\n",
    "        if err < e:\n",
    "            return newx, i\n",
    "        else:\n",
    "            start = newx\n",
    "        i+=1\n"
   ]
  },
  {
   "cell_type": "code",
   "execution_count": 51,
   "metadata": {},
   "outputs": [
    {
     "data": {
      "text/html": [
       "<div>\n",
       "<style scoped>\n",
       "    .dataframe tbody tr th:only-of-type {\n",
       "        vertical-align: middle;\n",
       "    }\n",
       "\n",
       "    .dataframe tbody tr th {\n",
       "        vertical-align: top;\n",
       "    }\n",
       "\n",
       "    .dataframe thead th {\n",
       "        text-align: right;\n",
       "    }\n",
       "</style>\n",
       "<table border=\"1\" class=\"dataframe\">\n",
       "  <thead>\n",
       "    <tr style=\"text-align: right;\">\n",
       "      <th></th>\n",
       "      <th></th>\n",
       "      <th>Метод Ньютона</th>\n",
       "    </tr>\n",
       "  </thead>\n",
       "  <tbody>\n",
       "    <tr>\n",
       "      <th>0</th>\n",
       "      <td>x</td>\n",
       "      <td>2.055840</td>\n",
       "    </tr>\n",
       "    <tr>\n",
       "      <th>1</th>\n",
       "      <td>y</td>\n",
       "      <td>-1.284650</td>\n",
       "    </tr>\n",
       "    <tr>\n",
       "      <th>2</th>\n",
       "      <td>x'</td>\n",
       "      <td>2.055842</td>\n",
       "    </tr>\n",
       "    <tr>\n",
       "      <th>3</th>\n",
       "      <td>y'</td>\n",
       "      <td>-1.284654</td>\n",
       "    </tr>\n",
       "    <tr>\n",
       "      <th>4</th>\n",
       "      <td>||X-X'||</td>\n",
       "      <td>0.000004</td>\n",
       "    </tr>\n",
       "    <tr>\n",
       "      <th>5</th>\n",
       "      <td>i</td>\n",
       "      <td>3.000000</td>\n",
       "    </tr>\n",
       "  </tbody>\n",
       "</table>\n",
       "</div>"
      ],
      "text/plain": [
       "             Метод Ньютона\n",
       "0         x       2.055840\n",
       "1         y      -1.284650\n",
       "2        x'       2.055842\n",
       "3        y'      -1.284654\n",
       "4  ||X-X'||       0.000004\n",
       "5         i       3.000000"
      ]
     },
     "execution_count": 51,
     "metadata": {},
     "output_type": "execute_result"
    }
   ],
   "source": [
    "eps = 0.001\n",
    "res, i = many_newton(f1, f2, df, np.asarray([2, -1.25]), eps)\n",
    "nor = np.asarray([2.05584, -1.28465])\n",
    "data = {\"\": [\"x\", \"y\", \"x'\",\"y'\", \"||X-X'||\", \"i\"], \n",
    "        \"Метод Ньютона\": [2.05584, -1.28465, res[0], res[1], max(abs(res - nor)), i],\n",
    "} \n",
    "pd.DataFrame(data)"
   ]
  }
 ],
 "metadata": {
  "kernelspec": {
   "display_name": "Python 3",
   "language": "python",
   "name": "python3"
  },
  "language_info": {
   "codemirror_mode": {
    "name": "ipython",
    "version": 3
   },
   "file_extension": ".py",
   "mimetype": "text/x-python",
   "name": "python",
   "nbconvert_exporter": "python",
   "pygments_lexer": "ipython3",
   "version": "3.11.9"
  }
 },
 "nbformat": 4,
 "nbformat_minor": 2
}
