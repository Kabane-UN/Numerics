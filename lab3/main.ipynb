{
 "cells": [
  {
   "cell_type": "code",
   "execution_count": 98,
   "metadata": {},
   "outputs": [],
   "source": [
    "import numpy as np\n",
    "import pandas as pd"
   ]
  },
  {
   "cell_type": "code",
   "execution_count": 99,
   "metadata": {},
   "outputs": [],
   "source": [
    "def f(x): \n",
    "    return 4*x**3/(x**8+1)\n",
    "def rect(f, a, b, n):\n",
    "    h = (b - a) / n\n",
    "    return h * sum(f(a + (i - .5) * h) for i in range(1, n + 1))\n",
    "\n",
    "def trap(f, a, b, n):\n",
    "    h = (b - a) / n\n",
    "    return h * ((f(a) + f(b)) / 2 + sum(f(a + i * h) for i in range(1, n)))\n",
    "\n",
    "def simp(f, a, b, n):\n",
    "    h = (b - a) / n\n",
    "    s = f(a) + f(b) + 4 * sum(f(a + (i - 0.5) * h) for i in range (1, n + 1))+\\\n",
    "          2*sum(f(a + (i - 1) * h) for i in range(2, n + 1))\n",
    "    return h / 6 * s"
   ]
  },
  {
   "cell_type": "code",
   "execution_count": 100,
   "metadata": {},
   "outputs": [],
   "source": [
    "def counter(alg, a, b, f, e):\n",
    "    n = 2\n",
    "    R = 10\n",
    "    i = 0\n",
    "    ih, ih2 = 0, 0\n",
    "    while abs(R) >= e:\n",
    "        n *= 2\n",
    "        ih = ih2\n",
    "        ih2 = alg(f, a, b, n)\n",
    "        if alg is rect or alg is trap:\n",
    "            R = (ih2 - ih ) / (2**2 - 1)\n",
    "        else:\n",
    "            R = (ih2 - ih) / (2**4 - 1)\n",
    "        i += 1\n",
    "    return (ih, R, n)\n"
   ]
  },
  {
   "cell_type": "code",
   "execution_count": 101,
   "metadata": {},
   "outputs": [
    {
     "data": {
      "text/html": [
       "<div>\n",
       "<style scoped>\n",
       "    .dataframe tbody tr th:only-of-type {\n",
       "        vertical-align: middle;\n",
       "    }\n",
       "\n",
       "    .dataframe tbody tr th {\n",
       "        vertical-align: top;\n",
       "    }\n",
       "\n",
       "    .dataframe thead th {\n",
       "        text-align: right;\n",
       "    }\n",
       "</style>\n",
       "<table border=\"1\" class=\"dataframe\">\n",
       "  <thead>\n",
       "    <tr style=\"text-align: right;\">\n",
       "      <th></th>\n",
       "      <th></th>\n",
       "      <th>Аналитическое решение</th>\n",
       "      <th>Прямоугольники</th>\n",
       "      <th>Трапеции</th>\n",
       "      <th>Симпсон</th>\n",
       "    </tr>\n",
       "  </thead>\n",
       "  <tbody>\n",
       "    <tr>\n",
       "      <th>0</th>\n",
       "      <td>n</td>\n",
       "      <td>NaN</td>\n",
       "      <td>32.000000</td>\n",
       "      <td>64.000000</td>\n",
       "      <td>16.000000</td>\n",
       "    </tr>\n",
       "    <tr>\n",
       "      <th>1</th>\n",
       "      <td>In/2</td>\n",
       "      <td>0.722979</td>\n",
       "      <td>0.720156</td>\n",
       "      <td>0.724238</td>\n",
       "      <td>0.719345</td>\n",
       "    </tr>\n",
       "    <tr>\n",
       "      <th>2</th>\n",
       "      <td>R</td>\n",
       "      <td>NaN</td>\n",
       "      <td>0.000729</td>\n",
       "      <td>-0.000316</td>\n",
       "      <td>0.000235</td>\n",
       "    </tr>\n",
       "    <tr>\n",
       "      <th>3</th>\n",
       "      <td>In/2+R</td>\n",
       "      <td>NaN</td>\n",
       "      <td>0.720885</td>\n",
       "      <td>0.723922</td>\n",
       "      <td>0.719580</td>\n",
       "    </tr>\n",
       "  </tbody>\n",
       "</table>\n",
       "</div>"
      ],
      "text/plain": [
       "           Аналитическое решение  Прямоугольники   Трапеции    Симпсон\n",
       "0       n                    NaN       32.000000  64.000000  16.000000\n",
       "1    In/2               0.722979        0.720156   0.724238   0.719345\n",
       "2       R                    NaN        0.000729  -0.000316   0.000235\n",
       "3  In/2+R                    NaN        0.720885   0.723922   0.719580"
      ]
     },
     "execution_count": 101,
     "metadata": {},
     "output_type": "execute_result"
    }
   ],
   "source": [
    "a = -1\n",
    "b = 2\n",
    "e = 0.001\n",
    "ihr, Rr, nr = counter(rect, a, b, f, e)\n",
    "iht, Rt, nt = counter(trap, a, b, f, e)\n",
    "ihs, Rs, ns = counter(simp, a, b, f, e)\n",
    "data = {\"\": [\"n\", \"In/2\", \"R\", \"In/2+R\"], \n",
    "        \"Аналитическое решение\" : [np.NaN, np.arctan(16) - np.pi/4, np.NaN, np.NaN], \n",
    "        \"Прямоугольники\": [nr, ihr, Rr, ihr+Rr],\n",
    "        \"Трапеции\": [nt, iht, Rt, iht+Rt], \"Симпсон\": [ns, ihs, Rs, ihs+Rs]} \n",
    "pd.DataFrame(data)"
   ]
  },
  {
   "cell_type": "code",
   "execution_count": null,
   "metadata": {},
   "outputs": [],
   "source": []
  }
 ],
 "metadata": {
  "kernelspec": {
   "display_name": "Python 3",
   "language": "python",
   "name": "python3"
  },
  "language_info": {
   "codemirror_mode": {
    "name": "ipython",
    "version": 3
   },
   "file_extension": ".py",
   "mimetype": "text/x-python",
   "name": "python",
   "nbconvert_exporter": "python",
   "pygments_lexer": "ipython3",
   "version": "3.11.8"
  }
 },
 "nbformat": 4,
 "nbformat_minor": 2
}
